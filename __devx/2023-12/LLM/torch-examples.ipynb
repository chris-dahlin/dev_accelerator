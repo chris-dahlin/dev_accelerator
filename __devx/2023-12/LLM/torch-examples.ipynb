{
 "cells": [
  {
   "cell_type": "code",
   "execution_count": 2,
   "id": "4f7b7917-a5d2-4a71-8fc8-8ef082fabc5d",
   "metadata": {},
   "outputs": [
    {
     "name": "stdout",
     "output_type": "stream",
     "text": [
      "cpu\n"
     ]
    }
   ],
   "source": [
    "import torch\n",
    "import torch.nn as nn\n",
    "import numpy as np\n",
    "import time\n",
    "device = 'cude' if torch.cuda.is_available() else 'cpu'\n",
    "print(device)"
   ]
  },
  {
   "cell_type": "code",
   "execution_count": 3,
   "id": "61fdf47e-4dac-464e-9f9a-04f79506fce5",
   "metadata": {},
   "outputs": [
    {
     "name": "stdout",
     "output_type": "stream",
     "text": [
      "0.0022270679\n",
      "CPU times: user 408 µs, sys: 1.24 ms, total: 1.64 ms\n",
      "Wall time: 2.29 ms\n"
     ]
    }
   ],
   "source": [
    "%%time\n",
    "start_time = time.time()\n",
    "# matrix operations here\n",
    "zeros = torch.zeros(1, 1)\n",
    "end_time = time.time()\n",
    "\n",
    "elapsed_time = end_time - start_time\n",
    "print(f\"{elapsed_time:.10f}\")"
   ]
  },
  {
   "cell_type": "code",
   "execution_count": 4,
   "id": "56b1102d-556a-424b-b064-fcc79fee8cbd",
   "metadata": {},
   "outputs": [
    {
     "name": "stdout",
     "output_type": "stream",
     "text": [
      "0.21004701\n",
      "0.32520604\n"
     ]
    }
   ],
   "source": [
    "torch_rand1 = torch.rand(100, 100, 100, 100).to(device)\n",
    "torch_rand2 = torch.rand(100, 100, 100, 100).to(device)\n",
    "np_rand1 = torch.rand(100, 100, 100, 100)\n",
    "np_rand2 = torch.rand(100, 100, 100, 100)\n",
    "\n",
    "start_time = time.time()\n",
    "\n",
    "rand = (torch_rand1 @ torch_rand2)\n",
    "\n",
    "end_time = time.time()\n",
    "\n",
    "elapsed_time = end_time - start_time\n",
    "print(f\"{elapsed_time:.8f}\")\n",
    "\n",
    "start_time = time.time()\n",
    "\n",
    "rand = np.multiply(np_rand1, np_rand2)\n",
    "end_time = time.time()\n",
    "elapsed_time = end_time - start_time\n",
    "print(f\"{elapsed_time:.8f}\")\n",
    "\n",
    "\n",
    "\n"
   ]
  },
  {
   "cell_type": "code",
   "execution_count": 5,
   "id": "b4ea2b19-be1b-40f0-9efb-6dfaf66e6fd2",
   "metadata": {},
   "outputs": [
    {
     "name": "stdout",
     "output_type": "stream",
     "text": [
      "tensor([1, 1, 1, 1, 1, 1, 1, 1, 1, 1])\n"
     ]
    }
   ],
   "source": [
    "# torch.stack, torch.multinomial, torch.tril, torch.triu, input.transpose, nn.linear, torch.cat, F.softmax (show all the examples of functions/methods with pytorch docs)\n",
    "\n",
    "# Define a probability tensor\n",
    "probabilities = torch.tensor([0.1, 0.9])\n",
    "# 10% or 0.1 => 0, 90% or 0.9 => 1 each probability points to the index of the probability in the tensor\n",
    "# draw 5 samples form the multinomial distribution \n",
    "samples = torch.multinomial(probabilities, num_samples=10, replacement=True)\n",
    "print(samples)"
   ]
  },
  {
   "cell_type": "code",
   "execution_count": 6,
   "id": "8741c6cf-a14e-4dc0-a574-e4a66ba9babd",
   "metadata": {},
   "outputs": [
    {
     "data": {
      "text/plain": [
       "tensor([1, 2, 3, 4, 5])"
      ]
     },
     "execution_count": 6,
     "metadata": {},
     "output_type": "execute_result"
    }
   ],
   "source": [
    "tensor = torch.tensor([1, 2, 3, 4])\n",
    "out = torch.cat((tensor, torch.tensor([5])), dim=0)\n",
    "out"
   ]
  },
  {
   "cell_type": "code",
   "execution_count": 7,
   "id": "a5e69974-1cb1-4173-a43e-46e469c70f01",
   "metadata": {},
   "outputs": [
    {
     "data": {
      "text/plain": [
       "tensor([[1., 0., 0., 0., 0.],\n",
       "        [1., 1., 0., 0., 0.],\n",
       "        [1., 1., 1., 0., 0.],\n",
       "        [1., 1., 1., 1., 0.],\n",
       "        [1., 1., 1., 1., 1.]])"
      ]
     },
     "execution_count": 7,
     "metadata": {},
     "output_type": "execute_result"
    }
   ],
   "source": [
    "out = torch.tril(torch.ones(5, 5))\n",
    "out"
   ]
  },
  {
   "cell_type": "code",
   "execution_count": 8,
   "id": "20b020b7-7b19-4252-85f5-877e9c3accf2",
   "metadata": {},
   "outputs": [
    {
     "data": {
      "text/plain": [
       "tensor([[1., 1., 1., 1., 1.],\n",
       "        [0., 1., 1., 1., 1.],\n",
       "        [0., 0., 1., 1., 1.],\n",
       "        [0., 0., 0., 1., 1.],\n",
       "        [0., 0., 0., 0., 1.]])"
      ]
     },
     "execution_count": 8,
     "metadata": {},
     "output_type": "execute_result"
    }
   ],
   "source": [
    "out = torch.triu(torch.ones(5, 5))\n",
    "out"
   ]
  },
  {
   "cell_type": "code",
   "execution_count": 9,
   "id": "3276cd23-a72e-4237-9d40-8321041da708",
   "metadata": {},
   "outputs": [
    {
     "data": {
      "text/plain": [
       "tensor([[0., -inf, -inf, -inf, -inf],\n",
       "        [0., 0., -inf, -inf, -inf],\n",
       "        [0., 0., 0., -inf, -inf],\n",
       "        [0., 0., 0., 0., -inf],\n",
       "        [0., 0., 0., 0., 0.]])"
      ]
     },
     "execution_count": 9,
     "metadata": {},
     "output_type": "execute_result"
    }
   ],
   "source": [
    "out = torch.zeros(5, 5).masked_fill(torch.tril(torch.ones(5, 5)) == 0, float('-inf'))\n",
    "out"
   ]
  },
  {
   "cell_type": "code",
   "execution_count": 10,
   "id": "7a480902-f8bf-461d-932e-19f4ed4fcbe7",
   "metadata": {},
   "outputs": [
    {
     "data": {
      "text/plain": [
       "tensor([[1., 0., 0., 0., 0.],\n",
       "        [1., 1., 0., 0., 0.],\n",
       "        [1., 1., 1., 0., 0.],\n",
       "        [1., 1., 1., 1., 0.],\n",
       "        [1., 1., 1., 1., 1.]])"
      ]
     },
     "execution_count": 10,
     "metadata": {},
     "output_type": "execute_result"
    }
   ],
   "source": [
    "torch.exp(out)"
   ]
  },
  {
   "cell_type": "code",
   "execution_count": 11,
   "id": "1f7b6231-1c45-4fc3-a7a2-cdae459d1b55",
   "metadata": {},
   "outputs": [
    {
     "data": {
      "text/plain": [
       "torch.Size([4, 3, 2])"
      ]
     },
     "execution_count": 11,
     "metadata": {},
     "output_type": "execute_result"
    }
   ],
   "source": [
    "input = torch.zeros(2, 3, 4)\n",
    "out = input.transpose(0, 2)\n",
    "out.shape"
   ]
  },
  {
   "cell_type": "code",
   "execution_count": 12,
   "id": "7df545a7-9032-4547-a851-ae0c141e1ba3",
   "metadata": {},
   "outputs": [
    {
     "data": {
      "text/plain": [
       "tensor([[1, 2, 3],\n",
       "        [4, 5, 6],\n",
       "        [7, 8, 9]])"
      ]
     },
     "execution_count": 12,
     "metadata": {},
     "output_type": "execute_result"
    }
   ],
   "source": [
    "tensor1 = torch.tensor([1, 2, 3])\n",
    "tensor2 = torch.tensor([4, 5, 6])\n",
    "tensor3 = torch.tensor([7, 8, 9])\n",
    "\n",
    "# Stack the tensors along a new dimension\n",
    "stacked_tensor = torch.stack([tensor1, tensor2, tensor3])\n",
    "stacked_tensor"
   ]
  },
  {
   "cell_type": "code",
   "execution_count": 13,
   "id": "b39af531-3ec1-45c6-a9b3-40f74d5da3fd",
   "metadata": {},
   "outputs": [
    {
     "name": "stdout",
     "output_type": "stream",
     "text": [
      "tensor([ 1.4721, -4.4892, -6.2241], grad_fn=<SqueezeBackward4>)\n"
     ]
    }
   ],
   "source": [
    "import torch.nn as nn\n",
    "sample = torch.tensor([10., 10., 10.])\n",
    "linear = nn.Linear(3, 3, bias=False)\n",
    "print(linear(sample))"
   ]
  },
  {
   "cell_type": "code",
   "execution_count": 14,
   "id": "999cdc1e-9d6a-49d7-aca8-f78863348a5c",
   "metadata": {},
   "outputs": [
    {
     "name": "stdout",
     "output_type": "stream",
     "text": [
      "tensor([0.0900, 0.2447, 0.6652])\n"
     ]
    }
   ],
   "source": [
    "import torch.nn.functional as F\n",
    "\n",
    "# Create a tensor \n",
    "tensor1 = torch.tensor([1.0, 2.0, 3.0])\n",
    "\n",
    "# Apply softmax using torch.nn.functional.softmax()\n",
    "softmax_output = F.softmax(tensor1, dim=0)\n",
    "\n",
    "print(softmax_output)\n"
   ]
  },
  {
   "cell_type": "code",
   "execution_count": 18,
   "id": "97266d4c-12c7-47c8-ba66-ca338b0ed0e5",
   "metadata": {},
   "outputs": [
    {
     "name": "stdout",
     "output_type": "stream",
     "text": [
      "torch.Size([4, 6])\n",
      "tensor([[ 0.1683,  1.3465, -0.3101, -0.6164,  2.6972,  0.4243],\n",
      "        [-1.1730,  0.4521, -1.2227, -0.8757,  0.3028, -1.2165],\n",
      "        [-1.1787,  0.4837, -0.4610, -0.5864, -1.4333,  0.5857],\n",
      "        [ 0.5381, -1.4124,  0.5670,  1.6694, -0.0949,  1.0274]],\n",
      "       grad_fn=<EmbeddingBackward0>)\n"
     ]
    }
   ],
   "source": [
    "# Initialize an embedding Layer\n",
    "vocab_size = 100 \n",
    "embedding_dim = 6\n",
    "embedding = nn.Embedding(vocab_size, embedding_dim)\n",
    "\n",
    "# Create some input indices\n",
    "input_indices = torch.LongTensor([1, 5, 3, 2])\n",
    "\n",
    "# Apply the embedding Layer\n",
    "embedded_output = embedding(input_indices)\n",
    "\n",
    "# The output will be a tensor of shape (4, 100) where 4 is the number of inputs\n",
    "# and 100 is the dimensionality of the embedding vectors\n",
    "print(embedded_output.shape)\n",
    "print(embedded_output)"
   ]
  },
  {
   "cell_type": "code",
   "execution_count": 24,
   "id": "0c525ab9-0691-4e8e-a601-71490ff2f0b5",
   "metadata": {},
   "outputs": [
    {
     "name": "stdout",
     "output_type": "stream",
     "text": [
      "tensor([[ 27,  30,  33],\n",
      "        [ 61,  68,  75],\n",
      "        [ 95, 106, 117]])\n"
     ]
    }
   ],
   "source": [
    "a = torch.tensor([[1,2],[3,4],[5,6]])\n",
    "b = torch.tensor([[7,8,9],[10,11,12]])\n",
    "# print(a @ b)\n",
    "print(torch.matmul(a, b))"
   ]
  },
  {
   "cell_type": "code",
   "execution_count": 20,
   "id": "f9186977-d33d-40fe-9695-40816d094651",
   "metadata": {},
   "outputs": [
    {
     "name": "stdout",
     "output_type": "stream",
     "text": [
      "tensor([[0., 0., 0.],\n",
      "        [0., 0., 0.],\n",
      "        [0., 0., 0.]])\n"
     ]
    }
   ],
   "source": [
    "int_64 = torch.randint(1, (3,2), dtype=torch.float32)\n",
    "#type int64\n",
    "float_32 = torch.rand(2,3, dtype=torch.float32)\n",
    "#type float32\n",
    "result = torch.matmul(int_64, float_32)\n",
    "print(result)"
   ]
  },
  {
   "cell_type": "code",
   "execution_count": 21,
   "id": "bbca8290-df6a-4321-948a-97a3363f92f0",
   "metadata": {},
   "outputs": [
    {
     "name": "stdout",
     "output_type": "stream",
     "text": [
      "torch.Size([2, 3, 5])\n",
      "2 3 5\n",
      "torch.Size([2, 3, 5])\n"
     ]
    }
   ],
   "source": [
    "a = torch.rand(2, 3, 5)\n",
    "print(a.shape)\n",
    "x, y, z = a.shape\n",
    "a = a.view(x,y,z)\n",
    "print(x, y, z)\n",
    "print(a.shape)"
   ]
  },
  {
   "cell_type": "code",
   "execution_count": 22,
   "id": "8de0796e-ec54-484a-983e-f7903e78c075",
   "metadata": {},
   "outputs": [
    {
     "name": "stdout",
     "output_type": "stream",
     "text": [
      "tensor([[0.6411, 0.6509, 0.8336, 0.3491, 0.7207, 0.7003, 0.1516, 0.5727, 0.0478,\n",
      "         0.7273],\n",
      "        [0.3100, 0.7997, 0.1067, 0.3455, 0.6970, 0.9209, 0.3366, 0.7663, 0.1893,\n",
      "         0.7188],\n",
      "        [0.6143, 0.9458, 0.3171, 0.3064, 0.2634, 0.9249, 0.0839, 0.1801, 0.1697,\n",
      "         0.8168],\n",
      "        [0.6933, 0.0960, 0.6545, 0.6990, 0.4372, 0.5539, 0.4034, 0.1940, 0.1965,\n",
      "         0.6795],\n",
      "        [0.4204, 0.9668, 0.6614, 0.6326, 0.7671, 0.7319, 0.8047, 0.1688, 0.4421,\n",
      "         0.8839],\n",
      "        [0.7112, 0.7013, 0.0362, 0.6571, 0.8430, 0.5649, 0.2659, 0.2621, 0.6256,\n",
      "         0.8865],\n",
      "        [0.4177, 0.9753, 0.3165, 0.2545, 0.2723, 0.9203, 0.8246, 0.5518, 0.4800,\n",
      "         0.0084],\n",
      "        [0.8408, 0.7374, 0.3527, 0.4497, 0.9075, 0.1346, 0.6716, 0.6748, 0.1282,\n",
      "         0.0535],\n",
      "        [0.1964, 0.7296, 0.1714, 0.7866, 0.6607, 0.0251, 0.5071, 0.0827, 0.9227,\n",
      "         0.2310],\n",
      "        [0.5004, 0.5148, 0.6301, 0.3064, 0.0588, 0.7316, 0.6616, 0.4871, 0.1462,\n",
      "         0.5565],\n",
      "        [0.3529, 0.1071, 0.5942, 0.4000, 0.8915, 0.3640, 0.7380, 0.3238, 0.7474,\n",
      "         0.7395],\n",
      "        [0.0716, 0.0457, 0.3998, 0.3565, 0.6659, 0.6140, 0.3645, 0.6702, 0.1280,\n",
      "         0.0740],\n",
      "        [0.1982, 0.0211, 0.1392, 0.6647, 0.0594, 0.4244, 0.2170, 0.9636, 0.5932,\n",
      "         0.9064],\n",
      "        [0.6632, 0.3556, 0.4866, 0.8698, 0.4671, 0.9807, 0.7268, 0.0019, 0.0990,\n",
      "         0.9411],\n",
      "        [0.1723, 0.4369, 0.8851, 0.1120, 0.0093, 0.7583, 0.4884, 0.1608, 0.7187,\n",
      "         0.8729],\n",
      "        [0.4860, 0.0224, 0.9959, 0.0372, 0.4655, 0.7379, 0.0976, 0.0228, 0.4622,\n",
      "         0.5273],\n",
      "        [0.1531, 0.1986, 0.1401, 0.5820, 0.6216, 0.1202, 0.8379, 0.9062, 0.5332,\n",
      "         0.2254],\n",
      "        [0.3435, 0.2746, 0.5794, 0.8458, 0.3808, 0.2672, 0.1230, 0.7369, 0.2604,\n",
      "         0.7988],\n",
      "        [0.0284, 0.0357, 0.1191, 0.0739, 0.3356, 0.8178, 0.8904, 0.5748, 0.9651,\n",
      "         0.4852],\n",
      "        [0.2598, 0.3443, 0.5176, 0.0878, 0.8120, 0.9412, 0.5575, 0.6838, 0.6630,\n",
      "         0.8459],\n",
      "        [0.1979, 0.0825, 0.1596, 0.5442, 0.2356, 0.9380, 0.7581, 0.0538, 0.0013,\n",
      "         0.9471],\n",
      "        [0.3539, 0.8313, 0.5351, 0.9421, 0.5179, 0.9508, 0.9419, 0.6682, 0.4575,\n",
      "         0.1230],\n",
      "        [0.8465, 0.8952, 0.5906, 0.7413, 0.8510, 0.7368, 0.3198, 0.6519, 0.6212,\n",
      "         0.4400],\n",
      "        [0.9258, 0.3116, 0.3180, 0.9986, 0.7141, 0.5189, 0.2101, 0.8814, 0.8578,\n",
      "         0.6428],\n",
      "        [0.3646, 0.1442, 0.3087, 0.6245, 0.8346, 0.8873, 0.1396, 0.3556, 0.7953,\n",
      "         0.0981],\n",
      "        [0.9148, 0.5640, 0.1511, 0.3969, 0.6596, 0.5036, 0.5126, 0.7298, 0.9577,\n",
      "         0.3557],\n",
      "        [0.1591, 0.1961, 0.3678, 0.3907, 0.7246, 0.1411, 0.2332, 0.5106, 0.3701,\n",
      "         0.0345],\n",
      "        [0.6427, 0.5470, 0.3574, 0.1576, 0.5723, 0.2542, 0.2767, 0.0141, 0.8467,\n",
      "         0.6764],\n",
      "        [0.4756, 0.7196, 0.9550, 0.0310, 0.7447, 0.8452, 0.5760, 0.3221, 0.1293,\n",
      "         0.3701],\n",
      "        [0.4488, 0.0126, 0.4351, 0.8725, 0.9335, 0.6194, 0.9888, 0.8765, 0.9463,\n",
      "         0.7124],\n",
      "        [0.2117, 0.6119, 0.4172, 0.5003, 0.3895, 0.9083, 0.5860, 0.5992, 0.7937,\n",
      "         0.5362],\n",
      "        [0.8068, 0.0235, 0.5485, 0.4950, 0.3401, 0.1464, 0.2899, 0.2854, 0.7424,\n",
      "         0.2581]])\n",
      "tensor([0.7273, 0.7188, 0.8168, 0.6795, 0.8839, 0.8865, 0.0084, 0.0535, 0.2310,\n",
      "        0.5565, 0.7395, 0.0740, 0.9064, 0.9411, 0.8729, 0.5273, 0.2254, 0.7988,\n",
      "        0.4852, 0.8459, 0.9471, 0.1230, 0.4400, 0.6428, 0.0981, 0.3557, 0.0345,\n",
      "        0.6764, 0.3701, 0.7124, 0.5362, 0.2581])\n"
     ]
    }
   ],
   "source": [
    "input = torch.rand((4, 8, 10))\n",
    "B, T, C = input.shape\n",
    "output = input.view(B * T, C)\n",
    "print(output)\n",
    "#print(input)\n",
    "print(output[:, -1])"
   ]
  },
  {
   "cell_type": "code",
   "execution_count": 23,
   "id": "e3611a95-bceb-47b5-b50b-8a05e8c1dbec",
   "metadata": {},
   "outputs": [
    {
     "name": "stdout",
     "output_type": "stream",
     "text": [
      "tensor([-0.0500])\n"
     ]
    }
   ],
   "source": [
    "x = torch.tensor([-0.05], dtype=torch.float32)\n",
    "y = torch.tanh(x)\n",
    "print(y)"
   ]
  },
  {
   "cell_type": "code",
   "execution_count": null,
   "id": "6f1b20f5-ccbd-40ef-a274-4d5b5b09512c",
   "metadata": {},
   "outputs": [],
   "source": []
  }
 ],
 "metadata": {
  "kernelspec": {
   "display_name": "Python 3 (ipykernel)",
   "language": "python",
   "name": "python3"
  },
  "language_info": {
   "codemirror_mode": {
    "name": "ipython",
    "version": 3
   },
   "file_extension": ".py",
   "mimetype": "text/x-python",
   "name": "python",
   "nbconvert_exporter": "python",
   "pygments_lexer": "ipython3",
   "version": "3.11.4"
  }
 },
 "nbformat": 4,
 "nbformat_minor": 5
}
